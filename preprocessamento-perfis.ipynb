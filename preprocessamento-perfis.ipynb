{
  "cells": [
    {
      "cell_type": "markdown",
      "metadata": {
        "id": "DXid9eJawn1O"
      },
      "source": [
        "**Pré-processamento - Perfis**\n",
        "```\n",
        "# Isto está formatado como código\n",
        "```\n",
        "\n"
      ]
    },
    {
      "cell_type": "code",
      "execution_count": null,
      "metadata": {
        "id": "lXclFQ3hzElg"
      },
      "outputs": [],
      "source": [
        "# Carregando as bibliotecas\n",
        "import pandas as pd\n",
        "import numpy as np\n",
        "from sklearn.cluster import KMeans\n",
        "from sklearn.cluster import AgglomerativeClustering\n",
        "from sklearn.metrics import silhouette_samples, silhouette_score, jaccard_score\n",
        "import matplotlib.pyplot as plt"
      ]
    },
    {
      "cell_type": "code",
      "execution_count": null,
      "metadata": {
        "colab": {
          "base_uri": "https://localhost:8080/"
        },
        "id": "utxkq7L9yPtD",
        "outputId": "335a826f-929a-4c0d-8f29-31b22587e84d"
      },
      "outputs": [
        {
          "name": "stdout",
          "output_type": "stream",
          "text": [
            "Drive already mounted at /content/drive; to attempt to forcibly remount, call drive.mount(\"/content/drive\", force_remount=True).\n"
          ]
        }
      ],
      "source": [
        "#Carrega os datasets\n",
        "arq_candidatos = '/data/D_ETL_IMO_EXTRACAO_SINE_ABERTO_TRABALHADORES_BA.csv'"
      ]
    },
    {
      "cell_type": "code",
      "execution_count": 13,
      "metadata": {
        "id": "vP_3EWldwxx8"
      },
      "outputs": [],
      "source": [
        "ds_perfis = pd.read_csv(arq_candidatos,encoding = \"ISO-8859-1\",sep=';')"
      ]
    },
    {
      "cell_type": "code",
      "execution_count": 14,
      "metadata": {
        "colab": {
          "base_uri": "https://localhost:8080/",
          "height": 374
        },
        "id": "Vy3ZKTUcxWuE",
        "outputId": "79582faa-b6b5-453c-9ee4-c635dff9aa9a"
      },
      "outputs": [
        {
          "data": {
            "text/html": [
              "\n",
              "  <div id=\"df-e65b46b0-ad89-4df5-9b66-9eed04264a67\">\n",
              "    <div class=\"colab-df-container\">\n",
              "      <div>\n",
              "<style scoped>\n",
              "    .dataframe tbody tr th:only-of-type {\n",
              "        vertical-align: middle;\n",
              "    }\n",
              "\n",
              "    .dataframe tbody tr th {\n",
              "        vertical-align: top;\n",
              "    }\n",
              "\n",
              "    .dataframe thead th {\n",
              "        text-align: right;\n",
              "    }\n",
              "</style>\n",
              "<table border=\"1\" class=\"dataframe\">\n",
              "  <thead>\n",
              "    <tr style=\"text-align: right;\">\n",
              "      <th></th>\n",
              "      <th>NACIONALIDADE</th>\n",
              "      <th>DEFICIENCIAS</th>\n",
              "      <th>BAIRRO</th>\n",
              "      <th>CEP</th>\n",
              "      <th>CODIGO_MUNICIPIO_IBGE</th>\n",
              "      <th>NOME_MUNICIPIO</th>\n",
              "      <th>UF</th>\n",
              "      <th>ESCOLARIDADE</th>\n",
              "      <th>ESTUDANTE</th>\n",
              "      <th>CURSOS_PROFISSIONALIZANTES</th>\n",
              "      <th>GRADUACOES</th>\n",
              "      <th>POS_GRADUACOES</th>\n",
              "      <th>IDIOMAS</th>\n",
              "      <th>HABILITACAO</th>\n",
              "      <th>VEICULOS</th>\n",
              "      <th>DISP_VIAJAR</th>\n",
              "      <th>DISP_DORMIR_EMP</th>\n",
              "      <th>DISP_AUSENTAR_DOMIC</th>\n",
              "      <th>PRETENSOES</th>\n",
              "      <th>MUNICIPIOS_INTERESSE</th>\n",
              "    </tr>\n",
              "  </thead>\n",
              "  <tbody>\n",
              "    <tr>\n",
              "      <th>0</th>\n",
              "      <td>BRASILEIRA</td>\n",
              "      <td>NaN</td>\n",
              "      <td>ALTO DA CRUZ</td>\n",
              "      <td>42803113.0</td>\n",
              "      <td>290570</td>\n",
              "      <td>CAMACARI</td>\n",
              "      <td>BA</td>\n",
              "      <td>Médio Completo</td>\n",
              "      <td>N</td>\n",
              "      <td>NaN</td>\n",
              "      <td>NaN</td>\n",
              "      <td>NaN</td>\n",
              "      <td>NaN</td>\n",
              "      <td>Nenhum</td>\n",
              "      <td>N</td>\n",
              "      <td>N</td>\n",
              "      <td>N</td>\n",
              "      <td>N</td>\n",
              "      <td>414140-Auxiliar de logistica(N,0,0,Indiferente...</td>\n",
              "      <td>NaN</td>\n",
              "    </tr>\n",
              "    <tr>\n",
              "      <th>1</th>\n",
              "      <td>BRASILEIRA</td>\n",
              "      <td>Um membro Inferior|Membros Superiores</td>\n",
              "      <td>LUIS EDUARDO MAGALHAES</td>\n",
              "      <td>47850000.0</td>\n",
              "      <td>291955</td>\n",
              "      <td>LUIS EDUARDO MAGALHAES</td>\n",
              "      <td>BA</td>\n",
              "      <td>Médio Completo</td>\n",
              "      <td>N</td>\n",
              "      <td>EMPILHADEIRA |INFORMATICA BASICA</td>\n",
              "      <td>NaN</td>\n",
              "      <td>NaN</td>\n",
              "      <td>NaN</td>\n",
              "      <td>B</td>\n",
              "      <td>N</td>\n",
              "      <td>N</td>\n",
              "      <td>N</td>\n",
              "      <td>N</td>\n",
              "      <td>511215-Cobrador de transportes coletivos (exce...</td>\n",
              "      <td>NaN</td>\n",
              "    </tr>\n",
              "    <tr>\n",
              "      <th>2</th>\n",
              "      <td>BRASILEIRA</td>\n",
              "      <td>NaN</td>\n",
              "      <td>NaN</td>\n",
              "      <td>40230700.0</td>\n",
              "      <td>292740</td>\n",
              "      <td>SALVADOR</td>\n",
              "      <td>BA</td>\n",
              "      <td>Médio Completo</td>\n",
              "      <td>N</td>\n",
              "      <td>NaN</td>\n",
              "      <td>NaN</td>\n",
              "      <td>NaN</td>\n",
              "      <td>NaN</td>\n",
              "      <td>Nenhum</td>\n",
              "      <td>N</td>\n",
              "      <td>N</td>\n",
              "      <td>N</td>\n",
              "      <td>N</td>\n",
              "      <td>513615-Sushiman(N,105,0,Indiferente)</td>\n",
              "      <td>NaN</td>\n",
              "    </tr>\n",
              "    <tr>\n",
              "      <th>3</th>\n",
              "      <td>BRASILEIRA</td>\n",
              "      <td>NaN</td>\n",
              "      <td>CAMPO LIMPO</td>\n",
              "      <td>44034216.0</td>\n",
              "      <td>291080</td>\n",
              "      <td>FEIRA DE SANTANA</td>\n",
              "      <td>BA</td>\n",
              "      <td>Superior Incompleto</td>\n",
              "      <td>S</td>\n",
              "      <td>atendimento ao publico|verificar escolaridade ...</td>\n",
              "      <td>HISTORIA</td>\n",
              "      <td>NaN</td>\n",
              "      <td>NaN</td>\n",
              "      <td>Nenhum</td>\n",
              "      <td>N</td>\n",
              "      <td>N</td>\n",
              "      <td>N</td>\n",
              "      <td>N</td>\n",
              "      <td>252545-Analista financeiro (instituições finan...</td>\n",
              "      <td>NaN</td>\n",
              "    </tr>\n",
              "    <tr>\n",
              "      <th>4</th>\n",
              "      <td>BRASILEIRA</td>\n",
              "      <td>NaN</td>\n",
              "      <td>IGUAPE</td>\n",
              "      <td>45658335.0</td>\n",
              "      <td>291360</td>\n",
              "      <td>ILHEUS</td>\n",
              "      <td>BA</td>\n",
              "      <td>Médio Completo</td>\n",
              "      <td>N</td>\n",
              "      <td>NaN</td>\n",
              "      <td>NaN</td>\n",
              "      <td>NaN</td>\n",
              "      <td>NaN</td>\n",
              "      <td>Nenhum</td>\n",
              "      <td>N</td>\n",
              "      <td>N</td>\n",
              "      <td>N</td>\n",
              "      <td>N</td>\n",
              "      <td>514325-Oficial de serviços gerais na manutençã...</td>\n",
              "      <td>NaN</td>\n",
              "    </tr>\n",
              "  </tbody>\n",
              "</table>\n",
              "</div>\n",
              "      <button class=\"colab-df-convert\" onclick=\"convertToInteractive('df-e65b46b0-ad89-4df5-9b66-9eed04264a67')\"\n",
              "              title=\"Convert this dataframe to an interactive table.\"\n",
              "              style=\"display:none;\">\n",
              "        \n",
              "  <svg xmlns=\"http://www.w3.org/2000/svg\" height=\"24px\"viewBox=\"0 0 24 24\"\n",
              "       width=\"24px\">\n",
              "    <path d=\"M0 0h24v24H0V0z\" fill=\"none\"/>\n",
              "    <path d=\"M18.56 5.44l.94 2.06.94-2.06 2.06-.94-2.06-.94-.94-2.06-.94 2.06-2.06.94zm-11 1L8.5 8.5l.94-2.06 2.06-.94-2.06-.94L8.5 2.5l-.94 2.06-2.06.94zm10 10l.94 2.06.94-2.06 2.06-.94-2.06-.94-.94-2.06-.94 2.06-2.06.94z\"/><path d=\"M17.41 7.96l-1.37-1.37c-.4-.4-.92-.59-1.43-.59-.52 0-1.04.2-1.43.59L10.3 9.45l-7.72 7.72c-.78.78-.78 2.05 0 2.83L4 21.41c.39.39.9.59 1.41.59.51 0 1.02-.2 1.41-.59l7.78-7.78 2.81-2.81c.8-.78.8-2.07 0-2.86zM5.41 20L4 18.59l7.72-7.72 1.47 1.35L5.41 20z\"/>\n",
              "  </svg>\n",
              "      </button>\n",
              "      \n",
              "  <style>\n",
              "    .colab-df-container {\n",
              "      display:flex;\n",
              "      flex-wrap:wrap;\n",
              "      gap: 12px;\n",
              "    }\n",
              "\n",
              "    .colab-df-convert {\n",
              "      background-color: #E8F0FE;\n",
              "      border: none;\n",
              "      border-radius: 50%;\n",
              "      cursor: pointer;\n",
              "      display: none;\n",
              "      fill: #1967D2;\n",
              "      height: 32px;\n",
              "      padding: 0 0 0 0;\n",
              "      width: 32px;\n",
              "    }\n",
              "\n",
              "    .colab-df-convert:hover {\n",
              "      background-color: #E2EBFA;\n",
              "      box-shadow: 0px 1px 2px rgba(60, 64, 67, 0.3), 0px 1px 3px 1px rgba(60, 64, 67, 0.15);\n",
              "      fill: #174EA6;\n",
              "    }\n",
              "\n",
              "    [theme=dark] .colab-df-convert {\n",
              "      background-color: #3B4455;\n",
              "      fill: #D2E3FC;\n",
              "    }\n",
              "\n",
              "    [theme=dark] .colab-df-convert:hover {\n",
              "      background-color: #434B5C;\n",
              "      box-shadow: 0px 1px 3px 1px rgba(0, 0, 0, 0.15);\n",
              "      filter: drop-shadow(0px 1px 2px rgba(0, 0, 0, 0.3));\n",
              "      fill: #FFFFFF;\n",
              "    }\n",
              "  </style>\n",
              "\n",
              "      <script>\n",
              "        const buttonEl =\n",
              "          document.querySelector('#df-e65b46b0-ad89-4df5-9b66-9eed04264a67 button.colab-df-convert');\n",
              "        buttonEl.style.display =\n",
              "          google.colab.kernel.accessAllowed ? 'block' : 'none';\n",
              "\n",
              "        async function convertToInteractive(key) {\n",
              "          const element = document.querySelector('#df-e65b46b0-ad89-4df5-9b66-9eed04264a67');\n",
              "          const dataTable =\n",
              "            await google.colab.kernel.invokeFunction('convertToInteractive',\n",
              "                                                     [key], {});\n",
              "          if (!dataTable) return;\n",
              "\n",
              "          const docLinkHtml = 'Like what you see? Visit the ' +\n",
              "            '<a target=\"_blank\" href=https://colab.research.google.com/notebooks/data_table.ipynb>data table notebook</a>'\n",
              "            + ' to learn more about interactive tables.';\n",
              "          element.innerHTML = '';\n",
              "          dataTable['output_type'] = 'display_data';\n",
              "          await google.colab.output.renderOutput(dataTable, element);\n",
              "          const docLink = document.createElement('div');\n",
              "          docLink.innerHTML = docLinkHtml;\n",
              "          element.appendChild(docLink);\n",
              "        }\n",
              "      </script>\n",
              "    </div>\n",
              "  </div>\n",
              "  "
            ],
            "text/plain": [
              "  NACIONALIDADE                           DEFICIENCIAS  \\\n",
              "0    BRASILEIRA                                    NaN   \n",
              "1    BRASILEIRA  Um membro Inferior|Membros Superiores   \n",
              "2    BRASILEIRA                                    NaN   \n",
              "3    BRASILEIRA                                    NaN   \n",
              "4    BRASILEIRA                                    NaN   \n",
              "\n",
              "                   BAIRRO         CEP  CODIGO_MUNICIPIO_IBGE  \\\n",
              "0            ALTO DA CRUZ  42803113.0                 290570   \n",
              "1  LUIS EDUARDO MAGALHAES  47850000.0                 291955   \n",
              "2                     NaN  40230700.0                 292740   \n",
              "3             CAMPO LIMPO  44034216.0                 291080   \n",
              "4                  IGUAPE  45658335.0                 291360   \n",
              "\n",
              "           NOME_MUNICIPIO  UF         ESCOLARIDADE ESTUDANTE  \\\n",
              "0                CAMACARI  BA       Médio Completo         N   \n",
              "1  LUIS EDUARDO MAGALHAES  BA       Médio Completo         N   \n",
              "2                SALVADOR  BA       Médio Completo         N   \n",
              "3        FEIRA DE SANTANA  BA  Superior Incompleto         S   \n",
              "4                  ILHEUS  BA       Médio Completo         N   \n",
              "\n",
              "                          CURSOS_PROFISSIONALIZANTES GRADUACOES  \\\n",
              "0                                                NaN        NaN   \n",
              "1                   EMPILHADEIRA |INFORMATICA BASICA        NaN   \n",
              "2                                                NaN        NaN   \n",
              "3  atendimento ao publico|verificar escolaridade ...   HISTORIA   \n",
              "4                                                NaN        NaN   \n",
              "\n",
              "  POS_GRADUACOES IDIOMAS HABILITACAO VEICULOS DISP_VIAJAR DISP_DORMIR_EMP  \\\n",
              "0            NaN     NaN      Nenhum        N           N               N   \n",
              "1            NaN     NaN           B        N           N               N   \n",
              "2            NaN     NaN      Nenhum        N           N               N   \n",
              "3            NaN     NaN      Nenhum        N           N               N   \n",
              "4            NaN     NaN      Nenhum        N           N               N   \n",
              "\n",
              "  DISP_AUSENTAR_DOMIC                                         PRETENSOES  \\\n",
              "0                   N  414140-Auxiliar de logistica(N,0,0,Indiferente...   \n",
              "1                   N  511215-Cobrador de transportes coletivos (exce...   \n",
              "2                   N               513615-Sushiman(N,105,0,Indiferente)   \n",
              "3                   N  252545-Analista financeiro (instituições finan...   \n",
              "4                   N  514325-Oficial de serviços gerais na manutençã...   \n",
              "\n",
              "  MUNICIPIOS_INTERESSE  \n",
              "0                  NaN  \n",
              "1                  NaN  \n",
              "2                  NaN  \n",
              "3                  NaN  \n",
              "4                  NaN  "
            ]
          },
          "execution_count": 14,
          "metadata": {},
          "output_type": "execute_result"
        }
      ],
      "source": [
        "ds_perfis.head()"
      ]
    },
    {
      "cell_type": "code",
      "execution_count": 15,
      "metadata": {
        "colab": {
          "base_uri": "https://localhost:8080/"
        },
        "id": "JoUtLu4dCUuM",
        "outputId": "d7cf83d3-10f1-4ea5-f04b-12490b5f4c02"
      },
      "outputs": [
        {
          "name": "stdout",
          "output_type": "stream",
          "text": [
            "<class 'pandas.core.frame.DataFrame'>\n",
            "RangeIndex: 703323 entries, 0 to 703322\n",
            "Data columns (total 20 columns):\n",
            " #   Column                      Non-Null Count   Dtype  \n",
            "---  ------                      --------------   -----  \n",
            " 0   NACIONALIDADE               703323 non-null  object \n",
            " 1   DEFICIENCIAS                5750 non-null    object \n",
            " 2   BAIRRO                      398465 non-null  object \n",
            " 3   CEP                         702928 non-null  float64\n",
            " 4   CODIGO_MUNICIPIO_IBGE       703323 non-null  int64  \n",
            " 5   NOME_MUNICIPIO              703323 non-null  object \n",
            " 6   UF                          703323 non-null  object \n",
            " 7   ESCOLARIDADE                703323 non-null  object \n",
            " 8   ESTUDANTE                   703323 non-null  object \n",
            " 9   CURSOS_PROFISSIONALIZANTES  157752 non-null  object \n",
            " 10  GRADUACOES                  63453 non-null   object \n",
            " 11  POS_GRADUACOES              1790 non-null    object \n",
            " 12  IDIOMAS                     27704 non-null   object \n",
            " 13  HABILITACAO                 703323 non-null  object \n",
            " 14  VEICULOS                    703323 non-null  object \n",
            " 15  DISP_VIAJAR                 703323 non-null  object \n",
            " 16  DISP_DORMIR_EMP             703323 non-null  object \n",
            " 17  DISP_AUSENTAR_DOMIC         703323 non-null  object \n",
            " 18  PRETENSOES                  678769 non-null  object \n",
            " 19  MUNICIPIOS_INTERESSE        13421 non-null   object \n",
            "dtypes: float64(1), int64(1), object(18)\n",
            "memory usage: 107.3+ MB\n"
          ]
        }
      ],
      "source": [
        "ds_perfis.info()"
      ]
    },
    {
      "cell_type": "code",
      "execution_count": 16,
      "metadata": {
        "colab": {
          "base_uri": "https://localhost:8080/"
        },
        "id": "cqjd3dGYDQpN",
        "outputId": "14e91264-e4b6-431b-d9e3-219e8e5fd0a4"
      },
      "outputs": [
        {
          "data": {
            "text/plain": [
              "array([nan, '291840', '290570|290570|290570', ...,\n",
              "       '293015|293015|293015|293015', '290780', '292205'], dtype=object)"
            ]
          },
          "execution_count": 16,
          "metadata": {},
          "output_type": "execute_result"
        }
      ],
      "source": [
        "#Visualiza domínio de municípios de interesse\n",
        "ds_perfis['MUNICIPIOS_INTERESSE'].unique()"
      ]
    },
    {
      "cell_type": "code",
      "execution_count": 17,
      "metadata": {
        "colab": {
          "base_uri": "https://localhost:8080/"
        },
        "id": "i8UBM8b3Djy8",
        "outputId": "b48f30fc-c375-44d5-86e0-9d6e9fe758d4"
      },
      "outputs": [
        {
          "data": {
            "text/plain": [
              "array(['414140-Auxiliar de logistica(N,0,0,Indiferente)|521110-Operador de vendas (lojas)(N,0,0,Indiferente)|716610-Ajudante de pintor(N,0,6,Indiferente)|717020-Auxiliar de pedreiro(N,0,12,Indiferente)|784205-Auxiliar de linha de produção(N,0,0,Indiferente)',\n",
              "       '511215-Cobrador de transportes coletivos (exceto trem)(N,5,0,Comercial)|517410-Porteiro(N,0,0,Indiferente)|517420-Vigia(N,0,0,Indiferente)|641010-Operador de máquinas de beneficiamento de produtos agrícolas(N,0,0,Indiferente)|715210-Pedreiro(N,0,0,Indiferente)|721105-Ferramenteiro(N,0,0,Indiferente)',\n",
              "       '513615-Sushiman(N,105,0,Indiferente)', ...,\n",
              "       '331110-Auxiliar de creche(N,0,12,Indiferente)|512105-Empregado  doméstico  nos serviços gerais(N,40,0,Indiferente)|512120-Empregado doméstico  diarista(N,0,120,Indiferente)|513315-Camareira de hotel(N,0,0,Indiferente)|514320-Auxiliar de limpeza(N,0,0,Indiferente)',\n",
              "       '252305-Secretária(o) executiva(o)(N,66,0,Indiferente)|411005-Auxiliar administrativo(N,34,0,Indiferente)|422105-Recepcionista secretária(N,0,0,Indiferente)|422310-Operador de telemarketing ativo e receptivo(N,0,0,Indiferente)|515330-Monitor de ressocialização prisional(N,0,0,Indiferente)|521140-Atendente balconista(N,14,0,Indiferente)',\n",
              "       '231210-Professor das séries iniciais(N,0,36,Indiferente)|411005-Auxiliar administrativo(N,0,48,Indiferente)|513505-Auxiliar de cozinha(N,0,10,Indiferente)|515215-Auxiliar de laboratório de análises clínicas(N,0,3,Indiferente)'],\n",
              "      dtype=object)"
            ]
          },
          "execution_count": 17,
          "metadata": {},
          "output_type": "execute_result"
        }
      ],
      "source": [
        "#Visualiza coluna de PRETENSOES            \n",
        "ds_perfis['PRETENSOES'].unique()      "
      ]
    },
    {
      "cell_type": "code",
      "execution_count": 18,
      "metadata": {
        "colab": {
          "base_uri": "https://localhost:8080/"
        },
        "id": "OrV36FssDtbE",
        "outputId": "50c1fbdf-c16f-494f-bf99-b885c9fd3789"
      },
      "outputs": [
        {
          "data": {
            "text/plain": [
              "array([nan, 'EMPILHADEIRA |INFORMATICA BASICA',\n",
              "       'atendimento ao publico|verificar escolaridade sem comprovação!!!!!!!!!!!!!!!',\n",
              "       ..., 'camareira de hotel ',\n",
              "       'pacote office 2010|telefonista/ RECEPCIONISTA- 2001',\n",
              "       'auxiliar de dentista|tecnico em laboratorio analise e clinica'],\n",
              "      dtype=object)"
            ]
          },
          "execution_count": 18,
          "metadata": {},
          "output_type": "execute_result"
        }
      ],
      "source": [
        "#Visualiza domínio de CURSOS_PROFISSIONALIZANTES\n",
        "ds_perfis['CURSOS_PROFISSIONALIZANTES'].unique()"
      ]
    },
    {
      "cell_type": "code",
      "execution_count": 19,
      "metadata": {
        "colab": {
          "base_uri": "https://localhost:8080/"
        },
        "id": "WR8XJGNoD9l9",
        "outputId": "5ec1524e-a702-4360-8fda-ede121390f9d"
      },
      "outputs": [
        {
          "data": {
            "text/plain": [
              "array([nan, 'HISTORIA', ' segurança do trabalho', ...,\n",
              "       'administracao|engenharia civil', 'direitos',\n",
              "       'biomedicina|especialização em hematologia e hemoterapia|pós graduação lato sensu em gestão de saúde'],\n",
              "      dtype=object)"
            ]
          },
          "execution_count": 19,
          "metadata": {},
          "output_type": "execute_result"
        }
      ],
      "source": [
        "#Visualiza domínio de GRADUACOES\n",
        "ds_perfis['GRADUACOES'].unique()"
      ]
    },
    {
      "cell_type": "code",
      "execution_count": 20,
      "metadata": {
        "colab": {
          "base_uri": "https://localhost:8080/"
        },
        "id": "cPtv6_ltEqjs",
        "outputId": "408b5944-bc8c-4711-c304-af456c04d188"
      },
      "outputs": [
        {
          "name": "stdout",
          "output_type": "stream",
          "text": [
            "result: biome\n",
            "result: espec\n",
            "result: pós g\n"
          ]
        }
      ],
      "source": [
        "texto ='biomedicina|especialização em hematologia e hemoterapia|pós graduação lato sensu em gestão de saúde'\n",
        "texto=texto.split(\"|\")\n",
        "for i in range(len(texto)):\n",
        "  print(\"result:\",texto[i][0:5])"
      ]
    },
    {
      "cell_type": "code",
      "execution_count": 21,
      "metadata": {
        "id": "UuR2WSUPF4G0"
      },
      "outputs": [],
      "source": [
        "#Função para calcular o número de itens\n",
        "def get_qtd_itens(df):\n",
        "    df_new=[]\n",
        "    for i in range(len(df)):\n",
        "      if(pd.isna(df[i])):\n",
        "        df_new.append(0)\n",
        "      else:\n",
        "        texto=df[i].split(\"|\") \n",
        "        df_new.append(len(texto)) \n",
        "    return df_new"
      ]
    },
    {
      "cell_type": "code",
      "execution_count": 22,
      "metadata": {
        "id": "Hq6dDH-GM-04"
      },
      "outputs": [],
      "source": [
        "def get_escolaridade_index(df_escolaridade):\n",
        "    vet_escolaridade=['-1 - Não Identificado','0 - Nenhum','1 - Analfabeto','10 - Fundamental Incompleto', '5 - Fundamental Completo','6 - Médio Incompleto','7 - Médio Completo', '8 - Superior Incompleto', 'Superior Completo','11 - Mestrado', '12 - Doutorado']\n",
        "    vet_escolaridade=['Não Identificado','Nenhum','Analfabeto','Fundamental Incompleto','Fundamental Completo','Médio Incompleto','Médio Completo','Superior Incompleto','Superior Completo','Especialização','Mestrado', 'Doutorado']\n",
        "    df_esc=[]\n",
        "    for i in range(len(df_escolaridade)):\n",
        "      index=-1  \n",
        "      for j in range(len(vet_escolaridade)):\n",
        "        if(vet_escolaridade[j]==df_escolaridade[i]):\n",
        "          index=j-1\n",
        "      df_esc.append(index)\n",
        "    return df_esc  "
      ]
    },
    {
      "cell_type": "code",
      "execution_count": 23,
      "metadata": {
        "id": "T0uUezfOGvAR"
      },
      "outputs": [],
      "source": [
        "#Quantifica os cursos de graduação, profissionalizantes e total de idiomas\n",
        "ds_perfis['N_GRADUACOES']=get_qtd_itens(ds_perfis['GRADUACOES'])\n",
        "ds_perfis['N_CURSOS']=get_qtd_itens(ds_perfis['CURSOS_PROFISSIONALIZANTES'])\n",
        "ds_perfis['N_IDIOMAS']=get_qtd_itens(ds_perfis['IDIOMAS'])"
      ]
    },
    {
      "cell_type": "code",
      "execution_count": 24,
      "metadata": {
        "id": "0Z2q1CG5PU6G"
      },
      "outputs": [],
      "source": [
        "ds_perfis['N_ESCOLARIDADE']=get_escolaridade_index(ds_perfis['ESCOLARIDADE'])"
      ]
    },
    {
      "cell_type": "code",
      "execution_count": 25,
      "metadata": {
        "id": "LMwn5dthxELT"
      },
      "outputs": [],
      "source": [
        "#Preenche o campo MUNICIPIOS_INTERESSE nulo com o CODIGO_MUNICIPIO_IBGE do candidato\n",
        "ds_perfis.MUNICIPIOS_INTERESSE.fillna(ds_perfis.CODIGO_MUNICIPIO_IBGE, inplace=True)"
      ]
    },
    {
      "cell_type": "code",
      "execution_count": 26,
      "metadata": {
        "id": "7cGYGYQna6Aj"
      },
      "outputs": [],
      "source": [
        "#Remove as colunas que não serão utilizadas exceto MUNICIPIOS_INTERESSE\n",
        "ds_perfis=ds_perfis.drop(['NACIONALIDADE','DEFICIENCIAS', 'BAIRRO','CEP','NOME_MUNICIPIO','UF','ESTUDANTE','CURSOS_PROFISSIONALIZANTES','GRADUACOES','IDIOMAS','HABILITACAO','VEICULOS','DISP_VIAJAR','DISP_AUSENTAR_DOMIC','DISP_DORMIR_EMP','POS_GRADUACOES','ESCOLARIDADE','CODIGO_MUNICIPIO_IBGE'], axis=1)"
      ]
    },
    {
      "cell_type": "code",
      "execution_count": 27,
      "metadata": {
        "colab": {
          "base_uri": "https://localhost:8080/"
        },
        "id": "6CuapkyLbY0L",
        "outputId": "6404ef16-0b3c-4bda-fa3d-662bf1835305"
      },
      "outputs": [
        {
          "name": "stdout",
          "output_type": "stream",
          "text": [
            "<class 'pandas.core.frame.DataFrame'>\n",
            "RangeIndex: 703323 entries, 0 to 703322\n",
            "Data columns (total 6 columns):\n",
            " #   Column                Non-Null Count   Dtype \n",
            "---  ------                --------------   ----- \n",
            " 0   PRETENSOES            678769 non-null  object\n",
            " 1   MUNICIPIOS_INTERESSE  703323 non-null  object\n",
            " 2   N_GRADUACOES          703323 non-null  int64 \n",
            " 3   N_CURSOS              703323 non-null  int64 \n",
            " 4   N_IDIOMAS             703323 non-null  int64 \n",
            " 5   N_ESCOLARIDADE        703323 non-null  int64 \n",
            "dtypes: int64(4), object(2)\n",
            "memory usage: 32.2+ MB\n"
          ]
        }
      ],
      "source": [
        "ds_perfis.info()"
      ]
    },
    {
      "cell_type": "code",
      "execution_count": 28,
      "metadata": {
        "id": "IIX0CpJlwnhy"
      },
      "outputs": [],
      "source": [
        "#Retira do dataset os perfis que não possuem pretenção de cargos\n",
        "ds_perfis=ds_perfis[ds_perfis['PRETENSOES'].notna()]"
      ]
    },
    {
      "cell_type": "code",
      "execution_count": 29,
      "metadata": {
        "id": "llEKdweiwu2p"
      },
      "outputs": [],
      "source": [
        "#Resetando o índice \n",
        "ds_perfis.reset_index(drop=True,inplace=True)"
      ]
    },
    {
      "cell_type": "code",
      "execution_count": 30,
      "metadata": {
        "id": "oKdU5G_rv1eq"
      },
      "outputs": [],
      "source": [
        "# Trata o campo de texto de pretensões transformando-o de texto livre para vetor\n",
        "df_new=[]\n",
        "df=ds_perfis['PRETENSOES']\n",
        "for i in range(len(df)):\n",
        "    vet_pret=[]\n",
        "    texto=df[i].split(\"|\") \n",
        "    for j in range(len(texto)): #len(texto)\n",
        "      texto[j]=texto[j][0:6]\n",
        "      texto[j]=texto[j].replace('-', '')\n",
        "      texto[j]=texto[j].replace('M', '')\n",
        "      texto[j]=texto[j].replace('a', '')\n",
        "      vet_pret.append(texto[j]) \n",
        "    df_new.append(vet_pret)  \n",
        "ds_perfis['CBO_PRETENSAO']=df_new    "
      ]
    },
    {
      "cell_type": "code",
      "execution_count": null,
      "metadata": {
        "id": "6O1Yt-KZgL7R"
      },
      "outputs": [],
      "source": [
        "# Remove a coluna de pretensões\n",
        "ds_perfis=ds_perfis.drop(['PRETENSOES'], axis=1)"
      ]
    },
    {
      "cell_type": "code",
      "execution_count": null,
      "metadata": {
        "id": "67IAn3RJPG5N"
      },
      "outputs": [],
      "source": [
        "ds_perfis.head()"
      ]
    },
    {
      "cell_type": "code",
      "execution_count": null,
      "metadata": {
        "id": "Ja5CTttHe1WS"
      },
      "outputs": [],
      "source": [
        "#Quebra os vetores de Pretenções duplicando as linhas de perfil do candidato\n",
        "df_new=[]\n",
        "for row in ds_perfis.itertuples(index=False):\n",
        "  for j in range(len(row.CBO_PRETENSAO)):\n",
        "    n_row=(row[0],row[1],row[2],row[3],row[4],row[5][j])\n",
        "    df_new.append(list(n_row))\n"
      ]
    },
    {
      "cell_type": "code",
      "execution_count": null,
      "metadata": {
        "id": "bHJprBRmflFH"
      },
      "outputs": [],
      "source": [
        "ds_perfis = pd.DataFrame(df_new,columns=['MUNICIPIOS_INTERESSE','N_GRADUACOES','N_CURSOS','N_IDIOMAS','N_ESCOLARIDADE','CBO_PRETENSAO'])\n",
        "ds_perfis = ds_perfis.astype({'MUNICIPIOS_INTERESSE': str, 'N_GRADUACOES': int, 'N_CURSOS': int, 'N_IDIOMAS': int, 'N_ESCOLARIDADE': int, 'CBO_PRETENSAO': str })\n"
      ]
    },
    {
      "cell_type": "code",
      "execution_count": null,
      "metadata": {
        "id": "LLy5zDuwhZiw"
      },
      "outputs": [],
      "source": [
        "ds_perfis.info()"
      ]
    },
    {
      "cell_type": "markdown",
      "metadata": {
        "id": "9V59v39Ukn3B"
      },
      "source": []
    },
    {
      "cell_type": "code",
      "execution_count": null,
      "metadata": {
        "id": "5GqipmTyjo4W"
      },
      "outputs": [],
      "source": [
        "ds_perfis.head()"
      ]
    },
    {
      "cell_type": "code",
      "execution_count": null,
      "metadata": {
        "id": "yN9_l0lwhy1A"
      },
      "outputs": [],
      "source": [
        "# Trata o campo de texto de MUNICIPIOS_INTERESSE transformando-o de texto livre para vetor\n",
        "df_new=[]\n",
        "df=ds_perfis['MUNICIPIOS_INTERESSE']\n",
        "for i in range(len(df)):\n",
        "    vet_pret=[]\n",
        "    texto=df[i].split(\"|\") \n",
        "    for j in range(len(texto)):#len(texto)\n",
        "      vet_pret.append(texto[j]) \n",
        "    df_new.append(vet_pret)  \n",
        "ds_perfis['COD_IBGE_MUN_INTERESSE']=df_new    "
      ]
    },
    {
      "cell_type": "code",
      "execution_count": null,
      "metadata": {
        "id": "MqEqeF5nxQfg"
      },
      "outputs": [],
      "source": [
        "ds_perfis=ds_perfis.drop(['MUNICIPIOS_INTERESSE'], axis=1)"
      ]
    },
    {
      "cell_type": "code",
      "execution_count": null,
      "metadata": {
        "id": "IEKP_hdljvSW"
      },
      "outputs": [],
      "source": [
        "ds_perfis.head()"
      ]
    },
    {
      "cell_type": "code",
      "execution_count": null,
      "metadata": {
        "id": "20gvAhVfiGRh"
      },
      "outputs": [],
      "source": [
        "#Quebra os vetores de COD_IBGE_MUN_INTERESSE duplicando as linhas de perfil do candidato\n",
        "df_new=[]\n",
        "for row in ds_perfis.itertuples(index=False):\n",
        "  for j in range(len(row.COD_IBGE_MUN_INTERESSE)):\n",
        "    n_row=(row[5][j],row[0],row[1],row[2],row[3],row[4])\n",
        "    df_new.append(list(n_row))"
      ]
    },
    {
      "cell_type": "code",
      "execution_count": null,
      "metadata": {
        "id": "F-zSbhZ-xeR8"
      },
      "outputs": [],
      "source": [
        "ds_perfis.head()"
      ]
    },
    {
      "cell_type": "code",
      "execution_count": null,
      "metadata": {
        "id": "tFW3hFwUjMyI"
      },
      "outputs": [],
      "source": [
        "ds_perfis = pd.DataFrame(df_new,columns=['COD_IBGE_MUN_INTERESSE','N_GRADUACOES','N_CURSOS','N_IDIOMAS','N_ESCOLARIDADE','CBO_PRETENSAO'])"
      ]
    },
    {
      "cell_type": "code",
      "execution_count": null,
      "metadata": {
        "id": "GVFq2Gzpxjov"
      },
      "outputs": [],
      "source": [
        "ds_perfis = ds_perfis.astype({'COD_IBGE_MUN_INTERESSE': int, 'N_GRADUACOES': int, 'N_CURSOS': int, 'N_IDIOMAS': int, 'N_ESCOLARIDADE': int, 'CBO_PRETENSAO': str })"
      ]
    },
    {
      "cell_type": "code",
      "execution_count": null,
      "metadata": {
        "id": "s4DVYEWyjfBx"
      },
      "outputs": [],
      "source": [
        "ds_perfis.info()"
      ]
    },
    {
      "cell_type": "code",
      "execution_count": null,
      "metadata": {
        "id": "ts_pO_M0jlZY"
      },
      "outputs": [],
      "source": [
        "#Medidas descritivas\n",
        "ds_perfis.describe()"
      ]
    },
    {
      "cell_type": "code",
      "execution_count": null,
      "metadata": {
        "id": "Dt7d1Q-ukG6g"
      },
      "outputs": [],
      "source": [
        "#Contagem de campos nulos\n",
        "ds_perfis.isna().sum()"
      ]
    },
    {
      "cell_type": "code",
      "execution_count": null,
      "metadata": {
        "id": "8LmQ7V0tkbDA"
      },
      "outputs": [],
      "source": [
        "#As 10 primeiras linhas\n",
        "ds_perfis.head(10)"
      ]
    },
    {
      "cell_type": "code",
      "execution_count": null,
      "metadata": {
        "id": "-9KxpzqOlieA"
      },
      "outputs": [],
      "source": [
        "# Considerando que o CBO está organizado em grupo e subgrupo de funções por área, então podemos propor um agrupamento por subgrupo até o nível 5\n",
        "#ds_perfis['GRUPO_OCUPACAO']=np.trunc(ds_perfis['CBO_PRETENSAO']/10)\n",
        "#ds_perfis['GRUPO_OCUPACAO']=ds_perfis.GRUPO_OCUPACAO.astype(np.int64)"
      ]
    },
    {
      "cell_type": "code",
      "execution_count": null,
      "metadata": {
        "id": "fKMsofYrmfM3"
      },
      "outputs": [],
      "source": [
        "ds_perfis.head()\n",
        "#Salva o data set para aplicação dos modelos de aprendizagem\n",
        "ds_perfis.to_excel('perfis-ba.xlsx')"
      ]
    }
  ],
  "metadata": {
    "colab": {
      "provenance": []
    },
    "kernelspec": {
      "display_name": "Python 3.10.3 64-bit",
      "language": "python",
      "name": "python3"
    },
    "language_info": {
      "name": "python",
      "version": "3.10.3"
    },
    "vscode": {
      "interpreter": {
        "hash": "3ccaa75cdcdd7885836916ac7addcb92357ee4cafb86b9dcabd374a8d9a2f30a"
      }
    }
  },
  "nbformat": 4,
  "nbformat_minor": 0
}
