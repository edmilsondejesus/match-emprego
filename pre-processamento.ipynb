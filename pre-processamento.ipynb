{
 "cells": [
  {
   "cell_type": "markdown",
   "metadata": {},
   "source": [
    "# Match do emprego"
   ]
  },
  {
   "cell_type": "code",
   "execution_count": null,
   "metadata": {},
   "outputs": [
    {
     "ename": "",
     "evalue": "",
     "output_type": "error",
     "traceback": [
      "\u001b[1;31mFalha ao iniciar o Kernel. \n",
      "\u001b[1;31mAttributeError: 'SelectIOLoop' object has no attribute 'asyncio_loop'. \n",
      "\u001b[1;31mConsulte o <a href='command:jupyter.viewOutput'>log</a> do Jupyter para obter mais detalhes."
     ]
    }
   ],
   "source": [
    "import pandas as pd\n",
    "import numpy as np"
   ]
  },
  {
   "cell_type": "code",
   "execution_count": null,
   "metadata": {},
   "outputs": [
    {
     "ename": "",
     "evalue": "",
     "output_type": "error",
     "traceback": [
      "\u001b[1;31mFalha ao iniciar o Kernel. \n",
      "\u001b[1;31mAttributeError: 'SelectIOLoop' object has no attribute 'asyncio_loop'. \n",
      "\u001b[1;31mConsulte o <a href='command:jupyter.viewOutput'>log</a> do Jupyter para obter mais detalhes."
     ]
    }
   ],
   "source": [
    "# df_vagas = pd.read_csv('data/D_ETL_IMO_EXTRACAO_SINE_ABERTO_VAGAS_PR.csv', encoding = \"ISO-8859-1\",sep=';')\n",
    "df_vagas = pd.read_excel('data/D_ETL_IMO_EXTRACAO_SINE_ABERTO_VAGAS_PR.xlsx')\n",
    "pd.set_option('max_colwidth', None)\n",
    "df_vagas.head()"
   ]
  },
  {
   "cell_type": "markdown",
   "metadata": {},
   "source": [
    "### Pré-processamento vagas \n",
    "- tipo_contratacao e escolaridade: substituindo valores textuais para numéricos\n",
    "- qtd_experiencia: preenchendo campos vazios com zero e convertendo campo float para int**"
   ]
  },
  {
   "cell_type": "code",
   "execution_count": null,
   "metadata": {},
   "outputs": [
    {
     "ename": "",
     "evalue": "",
     "output_type": "error",
     "traceback": [
      "\u001b[1;31mFalha ao iniciar o Kernel. \n",
      "\u001b[1;31mAttributeError: 'SelectIOLoop' object has no attribute 'asyncio_loop'. \n",
      "\u001b[1;31mConsulte o <a href='command:jupyter.viewOutput'>log</a> do Jupyter para obter mais detalhes."
     ]
    }
   ],
   "source": [
    "# Remove as colunas que não serão utilizadas\n",
    "df_vagas=df_vagas.drop(['REQUERIDO_DEFICIENCIA', 'DEFICIENCIAS','CEP','OBSERVACOES_OCUPACAO','TITULO_OCUPACAO','QTD_VAGAS','CODIGO_MUNICIPIO_IBGE'], axis=1)\n",
    "\n",
    "df_vagas.rename(columns={'CODIGO_OCUPACAO': 'cod_ocupacao', 'VALOR_SALARIO': 'salario', 'TIPO_CONTRATACAO': 'tipo_contratacao',\n",
    "'QTD_EXPERIENCIA': 'qtd_experiencia', 'ESCOLARIDADE': 'escolaridade'}, inplace=True)"
   ]
  },
  {
   "cell_type": "code",
   "execution_count": null,
   "metadata": {},
   "outputs": [
    {
     "ename": "",
     "evalue": "",
     "output_type": "error",
     "traceback": [
      "\u001b[1;31mFalha ao iniciar o Kernel. \n",
      "\u001b[1;31mAttributeError: 'SelectIOLoop' object has no attribute 'asyncio_loop'. \n",
      "\u001b[1;31mConsulte o <a href='command:jupyter.viewOutput'>log</a> do Jupyter para obter mais detalhes."
     ]
    }
   ],
   "source": [
    "\n",
    "# Tipo contratacao\n",
    "df_vagas.loc[df_vagas['tipo_contratacao'] == '0 - Estágio', 'tipo_contratacao']     = 0\n",
    "df_vagas.loc[df_vagas['tipo_contratacao'] == '1 - Aprendiz', 'tipo_contratacao']    = 1 \n",
    "df_vagas.loc[df_vagas['tipo_contratacao'] == '2 - Temporária', 'tipo_contratacao']  = 2\n",
    "df_vagas.loc[df_vagas['tipo_contratacao'] == '3 - Permanente', 'tipo_contratacao']  = 3\n",
    "\n",
    "# Escolaridade\n",
    "df_vagas.loc[df_vagas['escolaridade'] == '0 - Nenhum', 'escolaridade']  = 0\n",
    "df_vagas.loc[df_vagas['escolaridade'] == '10 - Fundamental Incompleto', 'escolaridade']  = 1\n",
    "df_vagas.loc[df_vagas['escolaridade'] == '5 - Fundamental Completo', 'escolaridade']  = 2\n",
    "df_vagas.loc[df_vagas['escolaridade'] == '6 - Médio Incompleto', 'escolaridade']  = 3\n",
    "df_vagas.loc[df_vagas['escolaridade'] == '7 - Médio Completo', 'escolaridade']  = 4\n",
    "df_vagas.loc[df_vagas['escolaridade'] == '8 - Superior Incompleto', 'escolaridade']  = 5\n",
    "df_vagas.loc[df_vagas['escolaridade'] == 'Superior Completo', 'escolaridade']  = 6\n",
    "df_vagas.loc[df_vagas['escolaridade'] == '13 - Especialização', 'escolaridade']  = 7\n",
    "\n",
    "# Qtd. Experiência\n",
    "df_vagas.fillna(0, inplace=True)\n",
    "df_vagas.qtd_experiencia =df_vagas.qtd_experiencia.astype(int)\n",
    "\n",
    "df_vagas['cod_ocupacao'] = df_vagas.cod_ocupacao.astype(np.int64)\n",
    "df_vagas['salario'] = df_vagas.salario.astype(np.int64)\n",
    "\n",
    "df_vagas.to_excel('data/vagas-pr.xlsx')\n",
    "df_vagas"
   ]
  },
  {
   "cell_type": "markdown",
   "metadata": {},
   "source": [
    "### Pré-processamento candidatos\n",
    "- deficiencia: 0 (não), 1 (sim)\n",
    "- escolaridade: domínio de -1 (Não Identificado) a 8 (Doutorado)"
   ]
  },
  {
   "cell_type": "code",
   "execution_count": null,
   "metadata": {},
   "outputs": [
    {
     "ename": "",
     "evalue": "",
     "output_type": "error",
     "traceback": [
      "\u001b[1;31mFalha ao iniciar o Kernel. \n",
      "\u001b[1;31mAttributeError: 'SelectIOLoop' object has no attribute 'asyncio_loop'. \n",
      "\u001b[1;31mConsulte o <a href='command:jupyter.viewOutput'>log</a> do Jupyter para obter mais detalhes."
     ]
    }
   ],
   "source": [
    "df_candidatos = pd.read_excel('data/candidatos-pr.xlsx')\n",
    "df_candidatos.head() #2m 53.6s"
   ]
  },
  {
   "cell_type": "code",
   "execution_count": null,
   "metadata": {},
   "outputs": [
    {
     "ename": "",
     "evalue": "",
     "output_type": "error",
     "traceback": [
      "\u001b[1;31mFalha ao iniciar o Kernel. \n",
      "\u001b[1;31mAttributeError: 'SelectIOLoop' object has no attribute 'asyncio_loop'. \n",
      "\u001b[1;31mConsulte o <a href='command:jupyter.viewOutput'>log</a> do Jupyter para obter mais detalhes."
     ]
    }
   ],
   "source": [
    "import re \n",
    "\n",
    "def getOcupacoes(txtOcupacoes):\n",
    "    pattern_cod_ocupacao = '[\\d]{6}' \n",
    "\n",
    "    ocupacoes = txtOcupacoes.split('|')\n",
    "    cod_ocupacao = []\n",
    "\n",
    "    for partOcupacao in ocupacoes:\n",
    "        print('Ocupação pretendida: ' + partOcupacao)\n",
    "        cod_ocupacao += re.findall(pattern_cod_ocupacao, partOcupacao)\n",
    "\n",
    "    return cod_ocupacao\n"
   ]
  },
  {
   "cell_type": "code",
   "execution_count": null,
   "metadata": {},
   "outputs": [
    {
     "ename": "",
     "evalue": "",
     "output_type": "error",
     "traceback": [
      "\u001b[1;31mFalha ao iniciar o Kernel. \n",
      "\u001b[1;31mAttributeError: 'SelectIOLoop' object has no attribute 'asyncio_loop'. \n",
      "\u001b[1;31mConsulte o <a href='command:jupyter.viewOutput'>log</a> do Jupyter para obter mais detalhes."
     ]
    }
   ],
   "source": [
    "# Deficiência\n",
    "df_candidatos.loc[df_candidatos['deficiencia'] == '', 'deficiencia'] = 0\n",
    "df_candidatos.loc[df_candidatos['deficiencia'] != '', 'deficiencia'] = 1\n",
    "\n",
    "# Escolaridade\n",
    "df_candidatos.loc[df_candidatos['escolaridade'] == 'Não Identificado', 'escolaridade']  = -1\n",
    "df_candidatos.loc[df_candidatos['escolaridade'] == 'Nenhum', 'escolaridade']  = 0\n",
    "df_candidatos.loc[df_candidatos['escolaridade'] == 'Analfabeto', 'escolaridade']  = 0\n",
    "df_candidatos.loc[df_candidatos['escolaridade'] == 'Fundamental Incompleto', 'escolaridade']  = 1\n",
    "df_candidatos.loc[df_candidatos['escolaridade'] == 'Fundamental Completo', 'escolaridade']  = 2\n",
    "df_candidatos.loc[df_candidatos['escolaridade'] == 'Médio Incompleto', 'escolaridade']  = 3\n",
    "df_candidatos.loc[df_candidatos['escolaridade'] == 'Médio Completo', 'escolaridade']  = 4\n",
    "df_candidatos.loc[df_candidatos['escolaridade'] == 'Superior Incompleto', 'escolaridade']  = 4\n",
    "df_candidatos.loc[df_candidatos['escolaridade'] == 'Superior Completo', 'escolaridade']  = 5\n",
    "df_candidatos.loc[df_candidatos['escolaridade'] == 'Especialização', 'escolaridade']  = 6\n",
    "df_candidatos.loc[df_candidatos['escolaridade'] == 'Mestrado', 'escolaridade']  = 7\n",
    "df_candidatos.loc[df_candidatos['escolaridade'] == 'Doutorado', 'escolaridade']  = 8\n",
    "\n",
    "# Estudante\n",
    "df_candidatos.loc[df_candidatos['estudante'] == 'N', 'estudante'] = 0\n",
    "df_candidatos.loc[df_candidatos['estudante'] == 'S', 'deficiencia'] = 1\n",
    "\n",
    "\n",
    "# Habilitacao\n",
    "from sklearn.preprocessing import LabelEncoder\n",
    "labelencoder_X = LabelEncoder()\n",
    "\n",
    "habilitacao_X = df_candidatos.loc[:, 'habilitacao'] # column habilitacao\n",
    "df_candidatos.loc[:, 'habilitacao'] = labelencoder_X.fit_transform(habilitacao_X)\n",
    "\n",
    "# Veículo\n",
    "df_candidatos.loc[df_candidatos['veiculo'] == 'N', 'veiculo'] = 0\n",
    "df_candidatos.loc[df_candidatos['veiculo'] == 'S', 'veiculo'] = 1\n",
    "\n",
    "# Disponibilidade viajar\n",
    "df_candidatos.loc[df_candidatos['disp_viajar'] == 'N', 'disp_viajar'] = 0\n",
    "df_candidatos.loc[df_candidatos['disp_viajar'] == 'S', 'disp_viajar'] = 1\n",
    "\n",
    "# Disponibilidade dormir\n",
    "df_candidatos.loc[df_candidatos['disp_dormir'] == 'N', 'disp_dormir'] = 0\n",
    "df_candidatos.loc[df_candidatos['disp_dormir'] == 'S', 'disp_dormir'] = 1\n",
    "\n",
    "# Disponibilidade ausentar domicilio\n",
    "df_candidatos.loc[df_candidatos['disp_ausentar_domicilio'] == 'N', 'disp_ausentar_domicilio'] = 0\n",
    "df_candidatos.loc[df_candidatos['disp_ausentar_domicilio'] == 'S', 'disp_ausentar_domicilio'] = 1\n",
    "\n",
    "# Ocupacao pretendida\n",
    "# retirando linhas cuja ocupacao_pretendida não tem valor\n",
    "# df_candidatos = df_candidatos[df_candidatos['ocupacao_pretendida'].notna()]\n",
    "df_candidatos = df_candidatos[df_candidatos.ocupacao_pretendida != '']\n",
    "\n",
    "df_candidatos.count()\n",
    "\n",
    "for index, row in df_candidatos.iterrows():    \n",
    "    df_candidatos.at[index, 'ocupacao_pretendida'] = getOcupacoes(row['ocupacao_pretendida'].strip())\n",
    "\n",
    "\n",
    "# df_candidatos.to_excel('data/candidatos-pr.xlsx')\n",
    "# df_candidatos"
   ]
  }
 ],
 "metadata": {
  "kernelspec": {
   "display_name": "Python 3.10.3 64-bit",
   "language": "python",
   "name": "python3"
  },
  "language_info": {
   "codemirror_mode": {
    "name": "ipython",
    "version": 3
   },
   "file_extension": ".py",
   "mimetype": "text/x-python",
   "name": "python",
   "nbconvert_exporter": "python",
   "pygments_lexer": "ipython3",
   "version": "3.10.3"
  },
  "orig_nbformat": 4,
  "vscode": {
   "interpreter": {
    "hash": "3ccaa75cdcdd7885836916ac7addcb92357ee4cafb86b9dcabd374a8d9a2f30a"
   }
  }
 },
 "nbformat": 4,
 "nbformat_minor": 2
}
