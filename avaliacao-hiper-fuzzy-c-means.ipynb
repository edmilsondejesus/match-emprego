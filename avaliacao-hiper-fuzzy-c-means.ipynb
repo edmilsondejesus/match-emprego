{
  "cells": [
    {
      "cell_type": "markdown",
      "metadata": {
        "colab_type": "text",
        "id": "view-in-github"
      },
      "source": [
        "<a href=\"https://colab.research.google.com/github/abmorte/match-emprego/blob/main/avaliacao-hiperparametros.ipynb\" target=\"_parent\"><img src=\"https://colab.research.google.com/assets/colab-badge.svg\" alt=\"Open In Colab\"/></a>"
      ]
    },
    {
      "cell_type": "markdown",
      "metadata": {
        "id": "l9Ic_Fs4FJLS"
      },
      "source": [
        "# Avaliação de hiperparâmetros para agrupamento Fuzzy C Means - Candidatos e Vagas"
      ]
    },
    {
      "cell_type": "markdown",
      "metadata": {
        "id": "lobFb0nyFJLY"
      },
      "source": [
        "#### Imports"
      ]
    },
    {
      "cell_type": "code",
      "execution_count": 65,
      "metadata": {},
      "outputs": [
        {
          "name": "stdout",
          "output_type": "stream",
          "text": [
            "Requirement already satisfied: openpyxl in c:\\users\\edmilson\\downloads\\mestrado\\match-emprego\\venv\\lib\\site-packages (3.0.10)\n",
            "Requirement already satisfied: et-xmlfile in c:\\users\\edmilson\\downloads\\mestrado\\match-emprego\\venv\\lib\\site-packages (from openpyxl) (1.1.0)\n"
          ]
        },
        {
          "name": "stderr",
          "output_type": "stream",
          "text": [
            "WARNING: You are using pip version 21.1.1; however, version 22.3.1 is available.\n",
            "You should consider upgrading via the 'c:\\users\\edmilson\\downloads\\mestrado\\match-emprego\\venv\\scripts\\python.exe -m pip install --upgrade pip' command.\n"
          ]
        }
      ],
      "source": [
        "!pip install openpyxl"
      ]
    },
    {
      "cell_type": "code",
      "execution_count": 66,
      "metadata": {},
      "outputs": [],
      "source": [
        "#!pip install matplotlib\n",
        "#!pip install pandas\n",
        "#!pip install sklearn\n",
        "#!pip install -U scikit-learn\n",
        "#!pip install scikit-fuzzy --upgrade\n"
      ]
    },
    {
      "cell_type": "code",
      "execution_count": 67,
      "metadata": {
        "id": "gx8dvImJFJLZ"
      },
      "outputs": [],
      "source": [
        "import matplotlib.pyplot as plt\n",
        "import numpy as np\n",
        "import pandas as pd\n",
        "from sklearn.cluster import AgglomerativeClustering, KMeans\n",
        "from sklearn.metrics import silhouette_score, davies_bouldin_score\n",
        "from sklearn.preprocessing import StandardScaler\n",
        "import skfuzzy as fz"
      ]
    },
    {
      "cell_type": "code",
      "execution_count": 68,
      "metadata": {
        "id": "MTHNp8lfFJLb",
        "outputId": "193253d1-3545-4d43-a0f0-8adc2740e12d"
      },
      "outputs": [
        {
          "data": {
            "text/html": [
              "<div>\n",
              "<style scoped>\n",
              "    .dataframe tbody tr th:only-of-type {\n",
              "        vertical-align: middle;\n",
              "    }\n",
              "\n",
              "    .dataframe tbody tr th {\n",
              "        vertical-align: top;\n",
              "    }\n",
              "\n",
              "    .dataframe thead th {\n",
              "        text-align: right;\n",
              "    }\n",
              "</style>\n",
              "<table border=\"1\" class=\"dataframe\">\n",
              "  <thead>\n",
              "    <tr style=\"text-align: right;\">\n",
              "      <th></th>\n",
              "      <th>Unnamed: 0</th>\n",
              "      <th>id_cadidato</th>\n",
              "      <th>cd_ibge_municipio_interesse</th>\n",
              "      <th>cbo_pretensao</th>\n",
              "      <th>n_graduacoes</th>\n",
              "      <th>n_cursos</th>\n",
              "      <th>n_idiomas</th>\n",
              "      <th>n_escolaridade</th>\n",
              "      <th>n_deficiencia</th>\n",
              "    </tr>\n",
              "  </thead>\n",
              "  <tbody>\n",
              "    <tr>\n",
              "      <th>0</th>\n",
              "      <td>0</td>\n",
              "      <td>1</td>\n",
              "      <td>290570</td>\n",
              "      <td>414140</td>\n",
              "      <td>0</td>\n",
              "      <td>0</td>\n",
              "      <td>0</td>\n",
              "      <td>-1</td>\n",
              "      <td>0</td>\n",
              "    </tr>\n",
              "    <tr>\n",
              "      <th>1</th>\n",
              "      <td>1</td>\n",
              "      <td>1</td>\n",
              "      <td>290570</td>\n",
              "      <td>521110</td>\n",
              "      <td>0</td>\n",
              "      <td>0</td>\n",
              "      <td>0</td>\n",
              "      <td>-1</td>\n",
              "      <td>0</td>\n",
              "    </tr>\n",
              "    <tr>\n",
              "      <th>2</th>\n",
              "      <td>2</td>\n",
              "      <td>1</td>\n",
              "      <td>290570</td>\n",
              "      <td>716610</td>\n",
              "      <td>0</td>\n",
              "      <td>0</td>\n",
              "      <td>0</td>\n",
              "      <td>-1</td>\n",
              "      <td>0</td>\n",
              "    </tr>\n",
              "    <tr>\n",
              "      <th>3</th>\n",
              "      <td>3</td>\n",
              "      <td>1</td>\n",
              "      <td>290570</td>\n",
              "      <td>717020</td>\n",
              "      <td>0</td>\n",
              "      <td>0</td>\n",
              "      <td>0</td>\n",
              "      <td>-1</td>\n",
              "      <td>0</td>\n",
              "    </tr>\n",
              "    <tr>\n",
              "      <th>4</th>\n",
              "      <td>4</td>\n",
              "      <td>1</td>\n",
              "      <td>290570</td>\n",
              "      <td>784205</td>\n",
              "      <td>0</td>\n",
              "      <td>0</td>\n",
              "      <td>0</td>\n",
              "      <td>-1</td>\n",
              "      <td>0</td>\n",
              "    </tr>\n",
              "  </tbody>\n",
              "</table>\n",
              "</div>"
            ],
            "text/plain": [
              "   Unnamed: 0  id_cadidato  cd_ibge_municipio_interesse  cbo_pretensao  \\\n",
              "0           0            1                       290570         414140   \n",
              "1           1            1                       290570         521110   \n",
              "2           2            1                       290570         716610   \n",
              "3           3            1                       290570         717020   \n",
              "4           4            1                       290570         784205   \n",
              "\n",
              "   n_graduacoes  n_cursos  n_idiomas  n_escolaridade  n_deficiencia  \n",
              "0             0         0          0              -1              0  \n",
              "1             0         0          0              -1              0  \n",
              "2             0         0          0              -1              0  \n",
              "3             0         0          0              -1              0  \n",
              "4             0         0          0              -1              0  "
            ]
          },
          "execution_count": 68,
          "metadata": {},
          "output_type": "execute_result"
        }
      ],
      "source": [
        "# Read the data\n",
        "df_candidatos = pd.read_excel('data/candidatos-ba.xlsx')\n",
        "#caminho = 'data/vagas-ba.csv'\n",
        "#df_candidatos = pd.read_csv(caminho,encoding = \"ISO-8859-1\",sep=';')\n",
        "#df_candidatos = pd.read_excel('data/vagas-pr-100.xlsx', index_col=0)\n",
        "df_candidatos.head()"
      ]
    },
    {
      "cell_type": "code",
      "execution_count": 69,
      "metadata": {},
      "outputs": [],
      "source": [
        "\n",
        "# renomeia o campo de cbo_pretencao para cod_ocupacao para permitir o join de candidato x vagas\n",
        "df_candidatos['cod_ocupacao']=df_candidatos['cbo_pretensao']\n",
        "df_candidatos=df_candidatos.drop(['cbo_pretensao'],axis=1)\n",
        "\n",
        "# renomeia o campo de cd_ibge_municipio_interesse para cd_municipio_ibge para permitir o join de candidato x vagas\n",
        "df_candidatos['cd_municipio_ibge']=df_candidatos['cd_ibge_municipio_interesse']\n",
        "df_candidatos=df_candidatos.drop(['cd_ibge_municipio_interesse'],axis=1)\n"
      ]
    },
    {
      "cell_type": "code",
      "execution_count": 70,
      "metadata": {},
      "outputs": [
        {
          "data": {
            "text/html": [
              "<div>\n",
              "<style scoped>\n",
              "    .dataframe tbody tr th:only-of-type {\n",
              "        vertical-align: middle;\n",
              "    }\n",
              "\n",
              "    .dataframe tbody tr th {\n",
              "        vertical-align: top;\n",
              "    }\n",
              "\n",
              "    .dataframe thead th {\n",
              "        text-align: right;\n",
              "    }\n",
              "</style>\n",
              "<table border=\"1\" class=\"dataframe\">\n",
              "  <thead>\n",
              "    <tr style=\"text-align: right;\">\n",
              "      <th></th>\n",
              "      <th>Unnamed: 0</th>\n",
              "      <th>cod_ocupacao</th>\n",
              "      <th>cd_municipio_ibge</th>\n",
              "      <th>salario</th>\n",
              "      <th>tipo_contratacao</th>\n",
              "      <th>qtd_experiencia</th>\n",
              "      <th>escolaridade</th>\n",
              "      <th>n_deficiencia</th>\n",
              "    </tr>\n",
              "  </thead>\n",
              "  <tbody>\n",
              "    <tr>\n",
              "      <th>0</th>\n",
              "      <td>0</td>\n",
              "      <td>516120</td>\n",
              "      <td>291080</td>\n",
              "      <td>0</td>\n",
              "      <td>3</td>\n",
              "      <td>6</td>\n",
              "      <td>5</td>\n",
              "      <td>0</td>\n",
              "    </tr>\n",
              "    <tr>\n",
              "      <th>1</th>\n",
              "      <td>1</td>\n",
              "      <td>411005</td>\n",
              "      <td>291955</td>\n",
              "      <td>0</td>\n",
              "      <td>3</td>\n",
              "      <td>0</td>\n",
              "      <td>5</td>\n",
              "      <td>0</td>\n",
              "    </tr>\n",
              "    <tr>\n",
              "      <th>2</th>\n",
              "      <td>2</td>\n",
              "      <td>783215</td>\n",
              "      <td>291072</td>\n",
              "      <td>880</td>\n",
              "      <td>3</td>\n",
              "      <td>0</td>\n",
              "      <td>5</td>\n",
              "      <td>0</td>\n",
              "    </tr>\n",
              "    <tr>\n",
              "      <th>3</th>\n",
              "      <td>3</td>\n",
              "      <td>521110</td>\n",
              "      <td>291980</td>\n",
              "      <td>0</td>\n",
              "      <td>3</td>\n",
              "      <td>6</td>\n",
              "      <td>5</td>\n",
              "      <td>0</td>\n",
              "    </tr>\n",
              "    <tr>\n",
              "      <th>4</th>\n",
              "      <td>4</td>\n",
              "      <td>524105</td>\n",
              "      <td>292740</td>\n",
              "      <td>0</td>\n",
              "      <td>3</td>\n",
              "      <td>0</td>\n",
              "      <td>3</td>\n",
              "      <td>0</td>\n",
              "    </tr>\n",
              "  </tbody>\n",
              "</table>\n",
              "</div>"
            ],
            "text/plain": [
              "   Unnamed: 0  cod_ocupacao  cd_municipio_ibge  salario  tipo_contratacao  \\\n",
              "0           0        516120             291080        0                 3   \n",
              "1           1        411005             291955        0                 3   \n",
              "2           2        783215             291072      880                 3   \n",
              "3           3        521110             291980        0                 3   \n",
              "4           4        524105             292740        0                 3   \n",
              "\n",
              "   qtd_experiencia  escolaridade  n_deficiencia  \n",
              "0                6             5              0  \n",
              "1                0             5              0  \n",
              "2                0             5              0  \n",
              "3                6             5              0  \n",
              "4                0             3              0  "
            ]
          },
          "execution_count": 70,
          "metadata": {},
          "output_type": "execute_result"
        }
      ],
      "source": [
        "# Read the data\n",
        "df_vagas = pd.read_excel('data/vagas-ba.xlsx')\n",
        "#caminho = 'data/vagas-ba.csv'\n",
        "#df_candidatos = pd.read_csv(caminho,encoding = \"ISO-8859-1\",sep=';')\n",
        "#df_candidatos = pd.read_excel('data/vagas-pr-100.xlsx', index_col=0)\n",
        "df_vagas.head()"
      ]
    },
    {
      "cell_type": "code",
      "execution_count": 71,
      "metadata": {},
      "outputs": [
        {
          "data": {
            "text/html": [
              "<div>\n",
              "<style scoped>\n",
              "    .dataframe tbody tr th:only-of-type {\n",
              "        vertical-align: middle;\n",
              "    }\n",
              "\n",
              "    .dataframe tbody tr th {\n",
              "        vertical-align: top;\n",
              "    }\n",
              "\n",
              "    .dataframe thead th {\n",
              "        text-align: right;\n",
              "    }\n",
              "</style>\n",
              "<table border=\"1\" class=\"dataframe\">\n",
              "  <thead>\n",
              "    <tr style=\"text-align: right;\">\n",
              "      <th></th>\n",
              "      <th>Unnamed: 0</th>\n",
              "      <th>id_cadidato</th>\n",
              "      <th>n_graduacoes</th>\n",
              "      <th>n_cursos</th>\n",
              "      <th>n_idiomas</th>\n",
              "      <th>n_escolaridade</th>\n",
              "      <th>n_deficiencia</th>\n",
              "      <th>cod_ocupacao</th>\n",
              "      <th>cd_municipio_ibge</th>\n",
              "    </tr>\n",
              "  </thead>\n",
              "  <tbody>\n",
              "    <tr>\n",
              "      <th>0</th>\n",
              "      <td>0</td>\n",
              "      <td>1</td>\n",
              "      <td>0</td>\n",
              "      <td>0</td>\n",
              "      <td>0</td>\n",
              "      <td>-1</td>\n",
              "      <td>0</td>\n",
              "      <td>414140</td>\n",
              "      <td>290570</td>\n",
              "    </tr>\n",
              "    <tr>\n",
              "      <th>1</th>\n",
              "      <td>1</td>\n",
              "      <td>1</td>\n",
              "      <td>0</td>\n",
              "      <td>0</td>\n",
              "      <td>0</td>\n",
              "      <td>-1</td>\n",
              "      <td>0</td>\n",
              "      <td>521110</td>\n",
              "      <td>290570</td>\n",
              "    </tr>\n",
              "    <tr>\n",
              "      <th>2</th>\n",
              "      <td>2</td>\n",
              "      <td>1</td>\n",
              "      <td>0</td>\n",
              "      <td>0</td>\n",
              "      <td>0</td>\n",
              "      <td>-1</td>\n",
              "      <td>0</td>\n",
              "      <td>716610</td>\n",
              "      <td>290570</td>\n",
              "    </tr>\n",
              "    <tr>\n",
              "      <th>3</th>\n",
              "      <td>3</td>\n",
              "      <td>1</td>\n",
              "      <td>0</td>\n",
              "      <td>0</td>\n",
              "      <td>0</td>\n",
              "      <td>-1</td>\n",
              "      <td>0</td>\n",
              "      <td>717020</td>\n",
              "      <td>290570</td>\n",
              "    </tr>\n",
              "    <tr>\n",
              "      <th>4</th>\n",
              "      <td>4</td>\n",
              "      <td>1</td>\n",
              "      <td>0</td>\n",
              "      <td>0</td>\n",
              "      <td>0</td>\n",
              "      <td>-1</td>\n",
              "      <td>0</td>\n",
              "      <td>784205</td>\n",
              "      <td>290570</td>\n",
              "    </tr>\n",
              "    <tr>\n",
              "      <th>...</th>\n",
              "      <td>...</td>\n",
              "      <td>...</td>\n",
              "      <td>...</td>\n",
              "      <td>...</td>\n",
              "      <td>...</td>\n",
              "      <td>...</td>\n",
              "      <td>...</td>\n",
              "      <td>...</td>\n",
              "      <td>...</td>\n",
              "    </tr>\n",
              "    <tr>\n",
              "      <th>6694</th>\n",
              "      <td>6694</td>\n",
              "      <td>1944</td>\n",
              "      <td>0</td>\n",
              "      <td>3</td>\n",
              "      <td>0</td>\n",
              "      <td>-1</td>\n",
              "      <td>0</td>\n",
              "      <td>422105</td>\n",
              "      <td>291400</td>\n",
              "    </tr>\n",
              "    <tr>\n",
              "      <th>6695</th>\n",
              "      <td>6695</td>\n",
              "      <td>1944</td>\n",
              "      <td>0</td>\n",
              "      <td>3</td>\n",
              "      <td>0</td>\n",
              "      <td>-1</td>\n",
              "      <td>0</td>\n",
              "      <td>521125</td>\n",
              "      <td>291400</td>\n",
              "    </tr>\n",
              "    <tr>\n",
              "      <th>6696</th>\n",
              "      <td>6696</td>\n",
              "      <td>1944</td>\n",
              "      <td>0</td>\n",
              "      <td>3</td>\n",
              "      <td>0</td>\n",
              "      <td>-1</td>\n",
              "      <td>0</td>\n",
              "      <td>764005</td>\n",
              "      <td>291400</td>\n",
              "    </tr>\n",
              "    <tr>\n",
              "      <th>6697</th>\n",
              "      <td>6697</td>\n",
              "      <td>1944</td>\n",
              "      <td>0</td>\n",
              "      <td>3</td>\n",
              "      <td>0</td>\n",
              "      <td>-1</td>\n",
              "      <td>0</td>\n",
              "      <td>764205</td>\n",
              "      <td>291400</td>\n",
              "    </tr>\n",
              "    <tr>\n",
              "      <th>6698</th>\n",
              "      <td>6698</td>\n",
              "      <td>1944</td>\n",
              "      <td>0</td>\n",
              "      <td>3</td>\n",
              "      <td>0</td>\n",
              "      <td>-1</td>\n",
              "      <td>0</td>\n",
              "      <td>765005</td>\n",
              "      <td>291400</td>\n",
              "    </tr>\n",
              "  </tbody>\n",
              "</table>\n",
              "<p>6699 rows × 9 columns</p>\n",
              "</div>"
            ],
            "text/plain": [
              "      Unnamed: 0  id_cadidato  n_graduacoes  n_cursos  n_idiomas  \\\n",
              "0              0            1             0         0          0   \n",
              "1              1            1             0         0          0   \n",
              "2              2            1             0         0          0   \n",
              "3              3            1             0         0          0   \n",
              "4              4            1             0         0          0   \n",
              "...          ...          ...           ...       ...        ...   \n",
              "6694        6694         1944             0         3          0   \n",
              "6695        6695         1944             0         3          0   \n",
              "6696        6696         1944             0         3          0   \n",
              "6697        6697         1944             0         3          0   \n",
              "6698        6698         1944             0         3          0   \n",
              "\n",
              "      n_escolaridade  n_deficiencia  cod_ocupacao  cd_municipio_ibge  \n",
              "0                 -1              0        414140             290570  \n",
              "1                 -1              0        521110             290570  \n",
              "2                 -1              0        716610             290570  \n",
              "3                 -1              0        717020             290570  \n",
              "4                 -1              0        784205             290570  \n",
              "...              ...            ...           ...                ...  \n",
              "6694              -1              0        422105             291400  \n",
              "6695              -1              0        521125             291400  \n",
              "6696              -1              0        764005             291400  \n",
              "6697              -1              0        764205             291400  \n",
              "6698              -1              0        765005             291400  \n",
              "\n",
              "[6699 rows x 9 columns]"
            ]
          },
          "execution_count": 71,
          "metadata": {},
          "output_type": "execute_result"
        }
      ],
      "source": [
        "df_candidatos"
      ]
    },
    {
      "cell_type": "code",
      "execution_count": 72,
      "metadata": {},
      "outputs": [
        {
          "data": {
            "text/plain": [
              "0"
            ]
          },
          "execution_count": 72,
          "metadata": {},
          "output_type": "execute_result"
        }
      ],
      "source": [
        "df_candidatos.n_deficiencia.unique()[0]"
      ]
    },
    {
      "cell_type": "code",
      "execution_count": 73,
      "metadata": {},
      "outputs": [],
      "source": [
        "# Relacionando os candidados pela ocupação, código de ibge e n_deficiencia\n",
        "df_geral = pd.merge(df_vagas, df_candidatos,on=['cod_ocupacao','cd_municipio_ibge','n_deficiencia'])"
      ]
    },
    {
      "cell_type": "code",
      "execution_count": 74,
      "metadata": {},
      "outputs": [],
      "source": [
        "# Gruarda a referencia do Id do candidado por linha e apaga essa coluna do dataset\n",
        "lista_candidatos=df_geral['id_cadidato']\n",
        "df_geral.drop(['id_cadidato'],axis=1,inplace=True)"
      ]
    },
    {
      "cell_type": "code",
      "execution_count": 75,
      "metadata": {},
      "outputs": [],
      "source": [
        "df_geral.drop(['Unnamed: 0_x'],axis=1,inplace=True)"
      ]
    },
    {
      "cell_type": "code",
      "execution_count": 76,
      "metadata": {},
      "outputs": [],
      "source": [
        "df_geral.drop(['Unnamed: 0_y'],axis=1,inplace=True)"
      ]
    },
    {
      "cell_type": "code",
      "execution_count": 77,
      "metadata": {
        "id": "AE0MEMG4FJLc",
        "outputId": "09a98626-2d36-4da5-cb12-090af7cf5479"
      },
      "outputs": [
        {
          "data": {
            "text/html": [
              "<div>\n",
              "<style scoped>\n",
              "    .dataframe tbody tr th:only-of-type {\n",
              "        vertical-align: middle;\n",
              "    }\n",
              "\n",
              "    .dataframe tbody tr th {\n",
              "        vertical-align: top;\n",
              "    }\n",
              "\n",
              "    .dataframe thead th {\n",
              "        text-align: right;\n",
              "    }\n",
              "</style>\n",
              "<table border=\"1\" class=\"dataframe\">\n",
              "  <thead>\n",
              "    <tr style=\"text-align: right;\">\n",
              "      <th></th>\n",
              "      <th>cod_ocupacao</th>\n",
              "      <th>cd_municipio_ibge</th>\n",
              "      <th>salario</th>\n",
              "      <th>tipo_contratacao</th>\n",
              "      <th>qtd_experiencia</th>\n",
              "      <th>escolaridade</th>\n",
              "      <th>n_deficiencia</th>\n",
              "      <th>n_graduacoes</th>\n",
              "      <th>n_cursos</th>\n",
              "      <th>n_idiomas</th>\n",
              "      <th>n_escolaridade</th>\n",
              "    </tr>\n",
              "  </thead>\n",
              "  <tbody>\n",
              "    <tr>\n",
              "      <th>0</th>\n",
              "      <td>516120</td>\n",
              "      <td>291080</td>\n",
              "      <td>0</td>\n",
              "      <td>3</td>\n",
              "      <td>6</td>\n",
              "      <td>5</td>\n",
              "      <td>0</td>\n",
              "      <td>0</td>\n",
              "      <td>0</td>\n",
              "      <td>0</td>\n",
              "      <td>-1</td>\n",
              "    </tr>\n",
              "    <tr>\n",
              "      <th>1</th>\n",
              "      <td>411005</td>\n",
              "      <td>291955</td>\n",
              "      <td>0</td>\n",
              "      <td>3</td>\n",
              "      <td>0</td>\n",
              "      <td>5</td>\n",
              "      <td>0</td>\n",
              "      <td>0</td>\n",
              "      <td>0</td>\n",
              "      <td>0</td>\n",
              "      <td>-1</td>\n",
              "    </tr>\n",
              "    <tr>\n",
              "      <th>2</th>\n",
              "      <td>411005</td>\n",
              "      <td>291955</td>\n",
              "      <td>0</td>\n",
              "      <td>3</td>\n",
              "      <td>0</td>\n",
              "      <td>5</td>\n",
              "      <td>0</td>\n",
              "      <td>1</td>\n",
              "      <td>0</td>\n",
              "      <td>0</td>\n",
              "      <td>7</td>\n",
              "    </tr>\n",
              "    <tr>\n",
              "      <th>3</th>\n",
              "      <td>411005</td>\n",
              "      <td>291955</td>\n",
              "      <td>0</td>\n",
              "      <td>3</td>\n",
              "      <td>0</td>\n",
              "      <td>5</td>\n",
              "      <td>0</td>\n",
              "      <td>0</td>\n",
              "      <td>0</td>\n",
              "      <td>0</td>\n",
              "      <td>-1</td>\n",
              "    </tr>\n",
              "    <tr>\n",
              "      <th>4</th>\n",
              "      <td>524105</td>\n",
              "      <td>292740</td>\n",
              "      <td>0</td>\n",
              "      <td>3</td>\n",
              "      <td>0</td>\n",
              "      <td>3</td>\n",
              "      <td>0</td>\n",
              "      <td>1</td>\n",
              "      <td>0</td>\n",
              "      <td>0</td>\n",
              "      <td>-1</td>\n",
              "    </tr>\n",
              "    <tr>\n",
              "      <th>5</th>\n",
              "      <td>524105</td>\n",
              "      <td>292740</td>\n",
              "      <td>0</td>\n",
              "      <td>3</td>\n",
              "      <td>0</td>\n",
              "      <td>3</td>\n",
              "      <td>0</td>\n",
              "      <td>0</td>\n",
              "      <td>0</td>\n",
              "      <td>0</td>\n",
              "      <td>-1</td>\n",
              "    </tr>\n",
              "    <tr>\n",
              "      <th>6</th>\n",
              "      <td>524105</td>\n",
              "      <td>292740</td>\n",
              "      <td>0</td>\n",
              "      <td>3</td>\n",
              "      <td>0</td>\n",
              "      <td>3</td>\n",
              "      <td>0</td>\n",
              "      <td>1</td>\n",
              "      <td>2</td>\n",
              "      <td>0</td>\n",
              "      <td>-1</td>\n",
              "    </tr>\n",
              "    <tr>\n",
              "      <th>7</th>\n",
              "      <td>524105</td>\n",
              "      <td>292740</td>\n",
              "      <td>0</td>\n",
              "      <td>3</td>\n",
              "      <td>0</td>\n",
              "      <td>3</td>\n",
              "      <td>0</td>\n",
              "      <td>0</td>\n",
              "      <td>0</td>\n",
              "      <td>0</td>\n",
              "      <td>-1</td>\n",
              "    </tr>\n",
              "    <tr>\n",
              "      <th>8</th>\n",
              "      <td>524105</td>\n",
              "      <td>292740</td>\n",
              "      <td>0</td>\n",
              "      <td>3</td>\n",
              "      <td>0</td>\n",
              "      <td>3</td>\n",
              "      <td>0</td>\n",
              "      <td>0</td>\n",
              "      <td>0</td>\n",
              "      <td>0</td>\n",
              "      <td>-1</td>\n",
              "    </tr>\n",
              "    <tr>\n",
              "      <th>9</th>\n",
              "      <td>524105</td>\n",
              "      <td>292740</td>\n",
              "      <td>0</td>\n",
              "      <td>3</td>\n",
              "      <td>0</td>\n",
              "      <td>3</td>\n",
              "      <td>0</td>\n",
              "      <td>0</td>\n",
              "      <td>0</td>\n",
              "      <td>0</td>\n",
              "      <td>-1</td>\n",
              "    </tr>\n",
              "  </tbody>\n",
              "</table>\n",
              "</div>"
            ],
            "text/plain": [
              "   cod_ocupacao  cd_municipio_ibge  salario  tipo_contratacao  \\\n",
              "0        516120             291080        0                 3   \n",
              "1        411005             291955        0                 3   \n",
              "2        411005             291955        0                 3   \n",
              "3        411005             291955        0                 3   \n",
              "4        524105             292740        0                 3   \n",
              "5        524105             292740        0                 3   \n",
              "6        524105             292740        0                 3   \n",
              "7        524105             292740        0                 3   \n",
              "8        524105             292740        0                 3   \n",
              "9        524105             292740        0                 3   \n",
              "\n",
              "   qtd_experiencia  escolaridade  n_deficiencia  n_graduacoes  n_cursos  \\\n",
              "0                6             5              0             0         0   \n",
              "1                0             5              0             0         0   \n",
              "2                0             5              0             1         0   \n",
              "3                0             5              0             0         0   \n",
              "4                0             3              0             1         0   \n",
              "5                0             3              0             0         0   \n",
              "6                0             3              0             1         2   \n",
              "7                0             3              0             0         0   \n",
              "8                0             3              0             0         0   \n",
              "9                0             3              0             0         0   \n",
              "\n",
              "   n_idiomas  n_escolaridade  \n",
              "0          0              -1  \n",
              "1          0              -1  \n",
              "2          0               7  \n",
              "3          0              -1  \n",
              "4          0              -1  \n",
              "5          0              -1  \n",
              "6          0              -1  \n",
              "7          0              -1  \n",
              "8          0              -1  \n",
              "9          0              -1  "
            ]
          },
          "execution_count": 77,
          "metadata": {},
          "output_type": "execute_result"
        }
      ],
      "source": [
        "df_geral.head(10)"
      ]
    },
    {
      "cell_type": "code",
      "execution_count": 78,
      "metadata": {},
      "outputs": [],
      "source": [
        "#transofrmando os atributos em uma escala menor\n",
        "scaler  =StandardScaler()\n",
        "sc_geral = scaler.fit_transform(df_geral)"
      ]
    },
    {
      "cell_type": "code",
      "execution_count": 79,
      "metadata": {},
      "outputs": [],
      "source": [
        "#Executando o agrupamento fuzzy c means\n",
        "# c - é o número de agrupamentos\n",
        "# m - distância interna entre os objetos, quanto maior o valor maior a distância\n",
        "# error - se o erro de distância for maior que 0.005 ele para\n",
        "# maxiter - é o numero máximo de iterações\n",
        "n_grupo=58\n",
        "agrupamento = fz.cmeans(data=sc_geral.T, c=n_grupo, m=n_grupo, error=0.005, maxiter=1000)"
      ]
    },
    {
      "cell_type": "code",
      "execution_count": 80,
      "metadata": {},
      "outputs": [],
      "source": [
        "#Recupera o grau de pertinencia dos 32 clusters\n",
        "grau_pertinencia = agrupamento[1]"
      ]
    },
    {
      "cell_type": "code",
      "execution_count": 81,
      "metadata": {},
      "outputs": [
        {
          "data": {
            "text/plain": [
              "(58, 1175)"
            ]
          },
          "execution_count": 81,
          "metadata": {},
          "output_type": "execute_result"
        }
      ],
      "source": [
        "#Imprime o tamanho da matrix de graus de pertinencia\n",
        "grau_pertinencia.shape\n",
        "# Ou seja, temos 32 grupos para 7504 colunas"
      ]
    },
    {
      "cell_type": "code",
      "execution_count": 82,
      "metadata": {},
      "outputs": [
        {
          "data": {
            "text/plain": [
              "0.01723995650254267"
            ]
          },
          "execution_count": 82,
          "metadata": {},
          "output_type": "execute_result"
        }
      ],
      "source": [
        "# Pertinência da primeira coluna (candidato) em relação ao grupo 0\n",
        "grau_pertinencia[0][0]"
      ]
    },
    {
      "cell_type": "code",
      "execution_count": 83,
      "metadata": {},
      "outputs": [
        {
          "data": {
            "text/plain": [
              "0.01723476057028471"
            ]
          },
          "execution_count": 83,
          "metadata": {},
          "output_type": "execute_result"
        }
      ],
      "source": [
        "# Pertinência da primeira coluna (candidato) em relação ao grupo 31\n",
        "grau_pertinencia[n_grupo-1][0]"
      ]
    },
    {
      "cell_type": "code",
      "execution_count": 84,
      "metadata": {},
      "outputs": [
        {
          "data": {
            "text/plain": [
              "array([29, 29, 18, ..., 29, 29, 29], dtype=int64)"
            ]
          },
          "execution_count": 84,
          "metadata": {},
          "output_type": "execute_result"
        }
      ],
      "source": [
        "# Retorna o índice do maior valor de pertinencia de cada elemento/coluna\n",
        "clusters = grau_pertinencia.argmax(axis=0)\n",
        "clusters"
      ]
    },
    {
      "cell_type": "code",
      "execution_count": 85,
      "metadata": {},
      "outputs": [
        {
          "data": {
            "image/png": "[encoded data removed]",
            "text/plain": [
              "<Figure size 640x480 with 1 Axes>"
            ]
          },
          "metadata": {},
          "output_type": "display_data"
        }
      ],
      "source": [
        "#gráfico de distribuição dos pontos \n",
        "\n",
        "import random\n",
        "\n",
        "colors = []\n",
        "list_group =[]\n",
        "for j in range(n_grupo):\n",
        "    colors.append(\"#\"+''.join([random.choice('ABCDEF0123456789') for i in range(6)]))\n",
        "    list_group.append(\"G-\"+str(j))\n",
        "\n",
        "           \n",
        "for i in range(0,n_grupo):\n",
        "    plt.scatter(sc_geral[clusters ==i, 0],\n",
        "            sc_geral[clusters ==i, 1], c = colors[i], label=list_group[i])\n",
        "plt.xlabel(\"CBO Transformado\")\n",
        "plt.title('Gráfico de distribuição dos agrupamentos por candidato x vaga ')\n",
        "plt.ylabel(\"CD IBGE Transformado\")\n",
        "plt.legend( ncol=n_grupo / 4, bbox_to_anchor=(1, -0.1))\n",
        "plt.show()\n"
      ]
    },
    {
      "cell_type": "markdown",
      "metadata": {
        "id": "kO79MpDOFJLd"
      },
      "source": [
        "#### Método Fuzzy C Means para agrupamento do dataset estabelecendo o grau de pertinência para cada candidato x vaga"
      ]
    },
    {
      "cell_type": "code",
      "execution_count": 86,
      "metadata": {},
      "outputs": [
        {
          "data": {
            "text/html": [
              "<div>\n",
              "<style scoped>\n",
              "    .dataframe tbody tr th:only-of-type {\n",
              "        vertical-align: middle;\n",
              "    }\n",
              "\n",
              "    .dataframe tbody tr th {\n",
              "        vertical-align: top;\n",
              "    }\n",
              "\n",
              "    .dataframe thead th {\n",
              "        text-align: right;\n",
              "    }\n",
              "</style>\n",
              "<table border=\"1\" class=\"dataframe\">\n",
              "  <thead>\n",
              "    <tr style=\"text-align: right;\">\n",
              "      <th></th>\n",
              "      <th>cod_ocupacao</th>\n",
              "      <th>cd_municipio_ibge</th>\n",
              "      <th>salario</th>\n",
              "      <th>tipo_contratacao</th>\n",
              "      <th>qtd_experiencia</th>\n",
              "      <th>escolaridade</th>\n",
              "      <th>n_deficiencia</th>\n",
              "      <th>n_graduacoes</th>\n",
              "      <th>n_cursos</th>\n",
              "      <th>n_idiomas</th>\n",
              "      <th>n_escolaridade</th>\n",
              "    </tr>\n",
              "  </thead>\n",
              "  <tbody>\n",
              "    <tr>\n",
              "      <th>0</th>\n",
              "      <td>516120</td>\n",
              "      <td>291080</td>\n",
              "      <td>0</td>\n",
              "      <td>3</td>\n",
              "      <td>6</td>\n",
              "      <td>5</td>\n",
              "      <td>0</td>\n",
              "      <td>0</td>\n",
              "      <td>0</td>\n",
              "      <td>0</td>\n",
              "      <td>-1</td>\n",
              "    </tr>\n",
              "    <tr>\n",
              "      <th>1</th>\n",
              "      <td>411005</td>\n",
              "      <td>291955</td>\n",
              "      <td>0</td>\n",
              "      <td>3</td>\n",
              "      <td>0</td>\n",
              "      <td>5</td>\n",
              "      <td>0</td>\n",
              "      <td>0</td>\n",
              "      <td>0</td>\n",
              "      <td>0</td>\n",
              "      <td>-1</td>\n",
              "    </tr>\n",
              "    <tr>\n",
              "      <th>2</th>\n",
              "      <td>411005</td>\n",
              "      <td>291955</td>\n",
              "      <td>0</td>\n",
              "      <td>3</td>\n",
              "      <td>0</td>\n",
              "      <td>5</td>\n",
              "      <td>0</td>\n",
              "      <td>1</td>\n",
              "      <td>0</td>\n",
              "      <td>0</td>\n",
              "      <td>7</td>\n",
              "    </tr>\n",
              "    <tr>\n",
              "      <th>3</th>\n",
              "      <td>411005</td>\n",
              "      <td>291955</td>\n",
              "      <td>0</td>\n",
              "      <td>3</td>\n",
              "      <td>0</td>\n",
              "      <td>5</td>\n",
              "      <td>0</td>\n",
              "      <td>0</td>\n",
              "      <td>0</td>\n",
              "      <td>0</td>\n",
              "      <td>-1</td>\n",
              "    </tr>\n",
              "    <tr>\n",
              "      <th>4</th>\n",
              "      <td>524105</td>\n",
              "      <td>292740</td>\n",
              "      <td>0</td>\n",
              "      <td>3</td>\n",
              "      <td>0</td>\n",
              "      <td>3</td>\n",
              "      <td>0</td>\n",
              "      <td>1</td>\n",
              "      <td>0</td>\n",
              "      <td>0</td>\n",
              "      <td>-1</td>\n",
              "    </tr>\n",
              "  </tbody>\n",
              "</table>\n",
              "</div>"
            ],
            "text/plain": [
              "   cod_ocupacao  cd_municipio_ibge  salario  tipo_contratacao  \\\n",
              "0        516120             291080        0                 3   \n",
              "1        411005             291955        0                 3   \n",
              "2        411005             291955        0                 3   \n",
              "3        411005             291955        0                 3   \n",
              "4        524105             292740        0                 3   \n",
              "\n",
              "   qtd_experiencia  escolaridade  n_deficiencia  n_graduacoes  n_cursos  \\\n",
              "0                6             5              0             0         0   \n",
              "1                0             5              0             0         0   \n",
              "2                0             5              0             1         0   \n",
              "3                0             5              0             0         0   \n",
              "4                0             3              0             1         0   \n",
              "\n",
              "   n_idiomas  n_escolaridade  \n",
              "0          0              -1  \n",
              "1          0              -1  \n",
              "2          0               7  \n",
              "3          0              -1  \n",
              "4          0              -1  "
            ]
          },
          "execution_count": 86,
          "metadata": {},
          "output_type": "execute_result"
        }
      ],
      "source": [
        "df_geral.head()"
      ]
    },
    {
      "cell_type": "code",
      "execution_count": null,
      "metadata": {},
      "outputs": [],
      "source": []
    },
    {
      "cell_type": "code",
      "execution_count": 87,
      "metadata": {},
      "outputs": [],
      "source": [
        "#Efetua a recomposição do dataframe de Candidato, juntando o id_candidtato e o cluster de classificação indicado para cada candidato.\n",
        "df_resultado=pd.DataFrame([np.asarray(lista_candidatos), np.asarray(clusters)]).T"
      ]
    },
    {
      "cell_type": "code",
      "execution_count": 88,
      "metadata": {},
      "outputs": [],
      "source": [
        "# renomeia as colunas do novo dataframe\n",
        "df_resultado.columns=['id_candidato','cluster']"
      ]
    },
    {
      "cell_type": "code",
      "execution_count": 89,
      "metadata": {},
      "outputs": [
        {
          "data": {
            "text/html": [
              "<div>\n",
              "<style scoped>\n",
              "    .dataframe tbody tr th:only-of-type {\n",
              "        vertical-align: middle;\n",
              "    }\n",
              "\n",
              "    .dataframe tbody tr th {\n",
              "        vertical-align: top;\n",
              "    }\n",
              "\n",
              "    .dataframe thead th {\n",
              "        text-align: right;\n",
              "    }\n",
              "</style>\n",
              "<table border=\"1\" class=\"dataframe\">\n",
              "  <thead>\n",
              "    <tr style=\"text-align: right;\">\n",
              "      <th></th>\n",
              "      <th>id_candidato</th>\n",
              "      <th>cluster</th>\n",
              "    </tr>\n",
              "  </thead>\n",
              "  <tbody>\n",
              "    <tr>\n",
              "      <th>0</th>\n",
              "      <td>1172</td>\n",
              "      <td>29</td>\n",
              "    </tr>\n",
              "    <tr>\n",
              "      <th>1</th>\n",
              "      <td>13</td>\n",
              "      <td>29</td>\n",
              "    </tr>\n",
              "    <tr>\n",
              "      <th>2</th>\n",
              "      <td>1735</td>\n",
              "      <td>18</td>\n",
              "    </tr>\n",
              "    <tr>\n",
              "      <th>3</th>\n",
              "      <td>1781</td>\n",
              "      <td>29</td>\n",
              "    </tr>\n",
              "    <tr>\n",
              "      <th>4</th>\n",
              "      <td>99</td>\n",
              "      <td>18</td>\n",
              "    </tr>\n",
              "    <tr>\n",
              "      <th>...</th>\n",
              "      <td>...</td>\n",
              "      <td>...</td>\n",
              "    </tr>\n",
              "    <tr>\n",
              "      <th>1170</th>\n",
              "      <td>1930</td>\n",
              "      <td>9</td>\n",
              "    </tr>\n",
              "    <tr>\n",
              "      <th>1171</th>\n",
              "      <td>545</td>\n",
              "      <td>29</td>\n",
              "    </tr>\n",
              "    <tr>\n",
              "      <th>1172</th>\n",
              "      <td>723</td>\n",
              "      <td>29</td>\n",
              "    </tr>\n",
              "    <tr>\n",
              "      <th>1173</th>\n",
              "      <td>1292</td>\n",
              "      <td>29</td>\n",
              "    </tr>\n",
              "    <tr>\n",
              "      <th>1174</th>\n",
              "      <td>1848</td>\n",
              "      <td>29</td>\n",
              "    </tr>\n",
              "  </tbody>\n",
              "</table>\n",
              "<p>1175 rows × 2 columns</p>\n",
              "</div>"
            ],
            "text/plain": [
              "      id_candidato  cluster\n",
              "0             1172       29\n",
              "1               13       29\n",
              "2             1735       18\n",
              "3             1781       29\n",
              "4               99       18\n",
              "...            ...      ...\n",
              "1170          1930        9\n",
              "1171           545       29\n",
              "1172           723       29\n",
              "1173          1292       29\n",
              "1174          1848       29\n",
              "\n",
              "[1175 rows x 2 columns]"
            ]
          },
          "execution_count": 89,
          "metadata": {},
          "output_type": "execute_result"
        }
      ],
      "source": [
        "#Exibe a relação final com id_candidato x cluster de vaga recomendado\n",
        "df_resultado"
      ]
    },
    {
      "cell_type": "code",
      "execution_count": 90,
      "metadata": {},
      "outputs": [],
      "source": [
        "class BestModel:\n",
        "    \"\"\"\n",
        "    Classe para armazenar os melhores hiperparâmetros\n",
        "    \"\"\"\n",
        "    def __init__(self, algo, metric, linkage, index, type):\n",
        "        self.algorithm = algo\n",
        "        self.metric = metric\n",
        "        self.linkage = linkage\n",
        "        self.index = index\n",
        "        self.type = type\n",
        "        self.k = 0 # number of clusters\n",
        "    \n",
        "    def setIndex(self, metric, linkage, index, k):\n",
        "        self.index = metric\n",
        "        self.linkage = linkage\n",
        "        self.index = index\n",
        "        self.k = k\n",
        "        \n",
        "    def show(self):\n",
        "        print(\"\".join(\"=\" for i in range(100)))\n",
        "        print(\"Algorithm: \", self.algorithm, \"\\nTipo de índice:\", self.type, \"\\nMétrica:\", self.metric, \"\\nLinkage:\", self.linkage, \"\\nÍndice:\", self.index, \"\\nNúmero de clusters:\", self.k)\n",
        "        print(\"\".join(\"=\" for i in range(100)))"
      ]
    },
    {
      "cell_type": "code",
      "execution_count": 102,
      "metadata": {},
      "outputs": [
        {
          "data": {
            "text/plain": [
              "Text(0, 0.5, 'Coeficiente de Partição Fuzzy')"
            ]
          },
          "execution_count": 102,
          "metadata": {},
          "output_type": "execute_result"
        },
        {
          "data": {
            "image/png": "[encoded data removed]",
            "text/plain": [
              "<Figure size 640x480 with 1 Axes>"
            ]
          },
          "metadata": {},
          "output_type": "display_data"
        }
      ],
      "source": [
        "# A partir do range de clusters sugeridos na etapa anterios é executada a rotina abaixo, para validação do número de clusters melhor ajustado.\n",
        "# Para isso é utilizando o Coeficiente de Partição PC , que calcula a média relativa de interseção fuzzy entre pares de subconjuntos na pseudo-partição\n",
        "# O PC é um índice de maximização, assim uma boa partição será aquela de maior coeficiene. (BEZDEK, 1974).\n",
        "\n",
        "MINCLUSTERS=10\n",
        "MAXCLUSTERS=74\n",
        "fuzzyclusters=[]\n",
        "\n",
        "for i in range(MINCLUSTERS, MAXCLUSTERS, 1):\n",
        "    agrupamento = fz.cmeans(data=sc_geral.T, c=i, m=i, error=0.005, maxiter=1000)            \n",
        "    fuzzyclusters.append(agrupamento[6])\n",
        "\n",
        "\n",
        "plt.plot(np.r_[MINCLUSTERS:MAXCLUSTERS], fuzzyclusters)\n",
        "plt.xlabel(\"Numero de Centros\")\n",
        "plt.ylabel(\"Coeficiente de Partição Fuzzy\")        "
      ]
    },
    {
      "cell_type": "code",
      "execution_count": 93,
      "metadata": {},
      "outputs": [],
      "source": [
        "agrupamento = fz.cmeans(data=sc_geral.T, c=58, m=2, error=0.005, maxiter=1000)       "
      ]
    }
  ],
  "metadata": {
    "colab": {
      "include_colab_link": true,
      "provenance": []
    },
    "kernelspec": {
      "display_name": "Python 3.9.5 ('venv': venv)",
      "language": "python",
      "name": "python3"
    },
    "language_info": {
      "codemirror_mode": {
        "name": "ipython",
        "version": 3
      },
      "file_extension": ".py",
      "mimetype": "text/x-python",
      "name": "python",
      "nbconvert_exporter": "python",
      "pygments_lexer": "ipython3",
      "version": "3.9.5"
    },
    "orig_nbformat": 4,
    "vscode": {
      "interpreter": {
        "hash": "ecd42dc88c74c18b1218730c945ecbd1a3902803b2c2da92c7e6be4414b30166"
      }
    }
  },
  "nbformat": 4,
  "nbformat_minor": 0
}
